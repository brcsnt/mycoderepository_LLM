{
  "cells": [
    {
      "cell_type": "code",
      "execution_count": 1,
      "id": "etvEJZ5aCTiG",
      "metadata": {
        "colab": {
          "base_uri": "https://localhost:8080/"
        },
        "id": "etvEJZ5aCTiG",
        "outputId": "c1367a9e-3fb8-4d68-8b4d-c153cc4e40ed"
      },
      "outputs": [
        {
          "output_type": "stream",
          "name": "stdout",
          "text": [
            "Requirement already satisfied: transformers in /usr/local/lib/python3.10/dist-packages (4.36.2)\n",
            "Requirement already satisfied: bitsandbytes in /usr/local/lib/python3.10/dist-packages (0.41.3.post2)\n",
            "Requirement already satisfied: einops in /usr/local/lib/python3.10/dist-packages (0.7.0)\n",
            "Requirement already satisfied: accelerate in /usr/local/lib/python3.10/dist-packages (0.25.0)\n",
            "Requirement already satisfied: peft in /usr/local/lib/python3.10/dist-packages (0.7.1)\n",
            "Requirement already satisfied: datasets in /usr/local/lib/python3.10/dist-packages (2.16.1)\n",
            "Requirement already satisfied: wandb in /usr/local/lib/python3.10/dist-packages (0.16.1)\n",
            "Requirement already satisfied: filelock in /usr/local/lib/python3.10/dist-packages (from transformers) (3.13.1)\n",
            "Requirement already satisfied: huggingface-hub<1.0,>=0.19.3 in /usr/local/lib/python3.10/dist-packages (from transformers) (0.19.4)\n",
            "Requirement already satisfied: numpy>=1.17 in /usr/local/lib/python3.10/dist-packages (from transformers) (1.23.5)\n",
            "Requirement already satisfied: packaging>=20.0 in /usr/local/lib/python3.10/dist-packages (from transformers) (23.2)\n",
            "Requirement already satisfied: pyyaml>=5.1 in /usr/local/lib/python3.10/dist-packages (from transformers) (6.0.1)\n",
            "Requirement already satisfied: regex!=2019.12.17 in /usr/local/lib/python3.10/dist-packages (from transformers) (2023.6.3)\n",
            "Requirement already satisfied: requests in /usr/local/lib/python3.10/dist-packages (from transformers) (2.31.0)\n",
            "Requirement already satisfied: tokenizers<0.19,>=0.14 in /usr/local/lib/python3.10/dist-packages (from transformers) (0.15.0)\n",
            "Requirement already satisfied: safetensors>=0.3.1 in /usr/local/lib/python3.10/dist-packages (from transformers) (0.4.1)\n",
            "Requirement already satisfied: tqdm>=4.27 in /usr/local/lib/python3.10/dist-packages (from transformers) (4.66.1)\n",
            "Requirement already satisfied: psutil in /usr/local/lib/python3.10/dist-packages (from accelerate) (5.9.5)\n",
            "Requirement already satisfied: torch>=1.10.0 in /usr/local/lib/python3.10/dist-packages (from accelerate) (2.1.0+cu121)\n",
            "Requirement already satisfied: pyarrow>=8.0.0 in /usr/local/lib/python3.10/dist-packages (from datasets) (10.0.1)\n",
            "Requirement already satisfied: pyarrow-hotfix in /usr/local/lib/python3.10/dist-packages (from datasets) (0.6)\n",
            "Requirement already satisfied: dill<0.3.8,>=0.3.0 in /usr/local/lib/python3.10/dist-packages (from datasets) (0.3.7)\n",
            "Requirement already satisfied: pandas in /usr/local/lib/python3.10/dist-packages (from datasets) (1.5.3)\n",
            "Requirement already satisfied: xxhash in /usr/local/lib/python3.10/dist-packages (from datasets) (3.4.1)\n",
            "Requirement already satisfied: multiprocess in /usr/local/lib/python3.10/dist-packages (from datasets) (0.70.15)\n",
            "Requirement already satisfied: fsspec[http]<=2023.10.0,>=2023.1.0 in /usr/local/lib/python3.10/dist-packages (from datasets) (2023.6.0)\n",
            "Requirement already satisfied: aiohttp in /usr/local/lib/python3.10/dist-packages (from datasets) (3.9.1)\n",
            "Requirement already satisfied: Click!=8.0.0,>=7.1 in /usr/local/lib/python3.10/dist-packages (from wandb) (8.1.7)\n",
            "Requirement already satisfied: GitPython!=3.1.29,>=1.0.0 in /usr/local/lib/python3.10/dist-packages (from wandb) (3.1.40)\n",
            "Requirement already satisfied: sentry-sdk>=1.0.0 in /usr/local/lib/python3.10/dist-packages (from wandb) (1.39.1)\n",
            "Requirement already satisfied: docker-pycreds>=0.4.0 in /usr/local/lib/python3.10/dist-packages (from wandb) (0.4.0)\n",
            "Requirement already satisfied: setproctitle in /usr/local/lib/python3.10/dist-packages (from wandb) (1.3.3)\n",
            "Requirement already satisfied: setuptools in /usr/local/lib/python3.10/dist-packages (from wandb) (67.7.2)\n",
            "Requirement already satisfied: appdirs>=1.4.3 in /usr/local/lib/python3.10/dist-packages (from wandb) (1.4.4)\n",
            "Requirement already satisfied: protobuf!=4.21.0,<5,>=3.19.0 in /usr/local/lib/python3.10/dist-packages (from wandb) (3.20.3)\n",
            "Requirement already satisfied: six>=1.4.0 in /usr/local/lib/python3.10/dist-packages (from docker-pycreds>=0.4.0->wandb) (1.16.0)\n",
            "Requirement already satisfied: attrs>=17.3.0 in /usr/local/lib/python3.10/dist-packages (from aiohttp->datasets) (23.1.0)\n",
            "Requirement already satisfied: multidict<7.0,>=4.5 in /usr/local/lib/python3.10/dist-packages (from aiohttp->datasets) (6.0.4)\n",
            "Requirement already satisfied: yarl<2.0,>=1.0 in /usr/local/lib/python3.10/dist-packages (from aiohttp->datasets) (1.9.4)\n",
            "Requirement already satisfied: frozenlist>=1.1.1 in /usr/local/lib/python3.10/dist-packages (from aiohttp->datasets) (1.4.1)\n",
            "Requirement already satisfied: aiosignal>=1.1.2 in /usr/local/lib/python3.10/dist-packages (from aiohttp->datasets) (1.3.1)\n",
            "Requirement already satisfied: async-timeout<5.0,>=4.0 in /usr/local/lib/python3.10/dist-packages (from aiohttp->datasets) (4.0.3)\n",
            "Requirement already satisfied: gitdb<5,>=4.0.1 in /usr/local/lib/python3.10/dist-packages (from GitPython!=3.1.29,>=1.0.0->wandb) (4.0.11)\n",
            "Requirement already satisfied: typing-extensions>=3.7.4.3 in /usr/local/lib/python3.10/dist-packages (from huggingface-hub<1.0,>=0.19.3->transformers) (4.5.0)\n",
            "Requirement already satisfied: charset-normalizer<4,>=2 in /usr/local/lib/python3.10/dist-packages (from requests->transformers) (3.3.2)\n",
            "Requirement already satisfied: idna<4,>=2.5 in /usr/local/lib/python3.10/dist-packages (from requests->transformers) (3.6)\n",
            "Requirement already satisfied: urllib3<3,>=1.21.1 in /usr/local/lib/python3.10/dist-packages (from requests->transformers) (2.0.7)\n",
            "Requirement already satisfied: certifi>=2017.4.17 in /usr/local/lib/python3.10/dist-packages (from requests->transformers) (2023.11.17)\n",
            "Requirement already satisfied: sympy in /usr/local/lib/python3.10/dist-packages (from torch>=1.10.0->accelerate) (1.12)\n",
            "Requirement already satisfied: networkx in /usr/local/lib/python3.10/dist-packages (from torch>=1.10.0->accelerate) (3.2.1)\n",
            "Requirement already satisfied: jinja2 in /usr/local/lib/python3.10/dist-packages (from torch>=1.10.0->accelerate) (3.1.2)\n",
            "Requirement already satisfied: triton==2.1.0 in /usr/local/lib/python3.10/dist-packages (from torch>=1.10.0->accelerate) (2.1.0)\n",
            "Requirement already satisfied: python-dateutil>=2.8.1 in /usr/local/lib/python3.10/dist-packages (from pandas->datasets) (2.8.2)\n",
            "Requirement already satisfied: pytz>=2020.1 in /usr/local/lib/python3.10/dist-packages (from pandas->datasets) (2023.3.post1)\n",
            "Requirement already satisfied: smmap<6,>=3.0.1 in /usr/local/lib/python3.10/dist-packages (from gitdb<5,>=4.0.1->GitPython!=3.1.29,>=1.0.0->wandb) (5.0.1)\n",
            "Requirement already satisfied: MarkupSafe>=2.0 in /usr/local/lib/python3.10/dist-packages (from jinja2->torch>=1.10.0->accelerate) (2.1.3)\n",
            "Requirement already satisfied: mpmath>=0.19 in /usr/local/lib/python3.10/dist-packages (from sympy->torch>=1.10.0->accelerate) (1.3.0)\n"
          ]
        }
      ],
      "source": [
        "!pip install -U transformers bitsandbytes einops accelerate peft datasets wandb\n"
      ]
    },
    {
      "cell_type": "markdown",
      "id": "81cc2af6-2d62-4cc6-9077-3870085d2535",
      "metadata": {
        "id": "81cc2af6-2d62-4cc6-9077-3870085d2535"
      },
      "source": [
        "# Load model and tokenizer"
      ]
    },
    {
      "cell_type": "code",
      "execution_count": 2,
      "id": "6a717186-5960-4e92-b2c5-5a7e4f1c0615",
      "metadata": {
        "colab": {
          "base_uri": "https://localhost:8080/"
        },
        "id": "6a717186-5960-4e92-b2c5-5a7e4f1c0615",
        "outputId": "c2658bf8-1e25-47b2-f0d5-e26bde569cb8"
      },
      "outputs": [
        {
          "output_type": "stream",
          "name": "stdout",
          "text": [
            "fatal: destination path 'phi-2' already exists and is not an empty directory.\n",
            "Already on 'pr/23'\n",
            "Your branch is up to date with 'origin/pr/23'.\n"
          ]
        }
      ],
      "source": [
        "# download phi-2 model and pr 23 to enable gradient checkpointing\n",
        "!git clone https://huggingface.co/microsoft/phi-2\n",
        "!cd phi-2; git fetch origin refs/pr/*:refs/remotes/origin/pr/*;git checkout pr/23"
      ]
    },
    {
      "cell_type": "markdown",
      "id": "a6377948-532c-4f66-801c-ee9874d5c6e5",
      "metadata": {
        "id": "a6377948-532c-4f66-801c-ee9874d5c6e5"
      },
      "source": [
        "## Load model in 4 bit"
      ]
    },
    {
      "cell_type": "code",
      "execution_count": 3,
      "id": "25884709-1cb8-420d-8946-e6abe2d5f499",
      "metadata": {
        "colab": {
          "base_uri": "https://localhost:8080/",
          "height": 49,
          "referenced_widgets": [
            "043c2db1f2474a54a1b12606a031391a",
            "f8b314ac16fb48d385a0d692647ad7c6",
            "035ffac7fea94d40814acc0431bc568a",
            "1082c8cbd9974b5299d486fa6d1f70a7",
            "65746bf9a1014473949c6ffa175e7a15",
            "52d946c8448647bfa7eb6c1a00ae25cf",
            "08fa8fd66875428a8219b51875a467e7",
            "894629eded314f7eab050ad324ee0090",
            "a7d06919403c4a8286083242d371a41f",
            "2c4335cbbcc44ade9ab06817c1cd3cff",
            "98bbcee530314856b9a0a362b5894c35"
          ]
        },
        "id": "25884709-1cb8-420d-8946-e6abe2d5f499",
        "outputId": "023a556b-be13-4ec0-e8e5-48df2dd00216"
      },
      "outputs": [
        {
          "output_type": "display_data",
          "data": {
            "text/plain": [
              "Loading checkpoint shards:   0%|          | 0/2 [00:00<?, ?it/s]"
            ],
            "application/vnd.jupyter.widget-view+json": {
              "version_major": 2,
              "version_minor": 0,
              "model_id": "043c2db1f2474a54a1b12606a031391a"
            }
          },
          "metadata": {}
        }
      ],
      "source": [
        "import torch\n",
        "from transformers import AutoModelForCausalLM, BitsAndBytesConfig, set_seed\n",
        "\n",
        "# set seed\n",
        "set_seed(42)\n",
        "\n",
        "# Load model\n",
        "modelpath = \"phi-2\"\n",
        "model = AutoModelForCausalLM.from_pretrained(\n",
        "    modelpath,\n",
        "    device_map=\"auto\",\n",
        "    quantization_config=BitsAndBytesConfig(\n",
        "        load_in_4bit=True,\n",
        "        bnb_4bit_compute_dtype=torch.bfloat16,\n",
        "        bnb_4bit_quant_type=\"nf4\",\n",
        "    ),\n",
        "    torch_dtype=torch.bfloat16,\n",
        "    trust_remote_code=True,\n",
        ")"
      ]
    },
    {
      "cell_type": "markdown",
      "id": "6ebd3fc1-3b90-4f1e-b5cc-972930f7f462",
      "metadata": {
        "id": "6ebd3fc1-3b90-4f1e-b5cc-972930f7f462"
      },
      "source": [
        "## Load tokenizer"
      ]
    },
    {
      "cell_type": "code",
      "execution_count": 4,
      "id": "782ae955-64d9-4e57-a793-a79c12b487e0",
      "metadata": {
        "colab": {
          "base_uri": "https://localhost:8080/"
        },
        "id": "782ae955-64d9-4e57-a793-a79c12b487e0",
        "outputId": "2784f53f-c511-48d2-af4a-8c0a1292aecc"
      },
      "outputs": [
        {
          "output_type": "stream",
          "name": "stderr",
          "text": [
            "Special tokens have been added in the vocabulary, make sure the associated word embeddings are fine-tuned or trained.\n"
          ]
        }
      ],
      "source": [
        "from transformers import AutoTokenizer\n",
        "\n",
        "tokenizer = AutoTokenizer.from_pretrained(modelpath, use_fast=False)    # fast tokenizer sometimes ignores the added tokens"
      ]
    },
    {
      "cell_type": "markdown",
      "id": "b47d5c1c-e72d-4dc6-848e-76ef08698b8f",
      "metadata": {
        "id": "b47d5c1c-e72d-4dc6-848e-76ef08698b8f"
      },
      "source": [
        "## Add ChatML tokens to tokenizer and model, resize embeddings"
      ]
    },
    {
      "cell_type": "code",
      "execution_count": 5,
      "id": "af4f17f8-08d2-47bd-8c3a-d8ca59bf9e24",
      "metadata": {
        "id": "af4f17f8-08d2-47bd-8c3a-d8ca59bf9e24"
      },
      "outputs": [],
      "source": [
        "# Add tokens <|im_start|> and <|im_end|>, latter is special eos token,\n",
        "tokenizer.add_tokens([\"<|im_start|>\", \"<PAD>\"])\n",
        "tokenizer.pad_token = \"<PAD>\"\n",
        "tokenizer.add_special_tokens(dict(eos_token=\"<|im_end|>\"))\n",
        "model.resize_token_embeddings(\n",
        "    new_num_tokens=len(tokenizer),\n",
        "    pad_to_multiple_of=64)   # phi2 default is 64, see configuration_phi.py\n",
        "model.config.eos_token_id = tokenizer.eos_token_id"
      ]
    },
    {
      "cell_type": "markdown",
      "id": "7676aa68-dca3-4beb-a41d-446f635a34ca",
      "metadata": {
        "id": "7676aa68-dca3-4beb-a41d-446f635a34ca"
      },
      "source": [
        "## Prepare LoRA adapters"
      ]
    },
    {
      "cell_type": "code",
      "execution_count": 6,
      "id": "7b992cae-a004-4713-b3ad-05abaf3a60fb",
      "metadata": {
        "id": "7b992cae-a004-4713-b3ad-05abaf3a60fb"
      },
      "outputs": [],
      "source": [
        "from peft import prepare_model_for_kbit_training, LoraConfig, get_peft_model\n",
        "\n",
        "lora_config = LoraConfig(\n",
        "    r=32,\n",
        "    lora_alpha=32,\n",
        "    target_modules = ['Wqkv','out_proj'],\n",
        "    lora_dropout=0.1,\n",
        "    bias=\"none\",\n",
        "    modules_to_save = [\"lm_head\", \"embed_tokens\"],\n",
        "    task_type=\"CAUSAL_LM\"\n",
        ")\n",
        "\n",
        "# Add adapters to model\n",
        "model = prepare_model_for_kbit_training(model, use_gradient_checkpointing=False)\n",
        "model = get_peft_model(model, lora_config)\n",
        "model.config.use_cache = False"
      ]
    },
    {
      "cell_type": "markdown",
      "id": "36206aee-05a5-4c34-9084-e36f2d10ee73",
      "metadata": {
        "id": "36206aee-05a5-4c34-9084-e36f2d10ee73"
      },
      "source": [
        "# Load and preprocess dataset"
      ]
    },
    {
      "cell_type": "code",
      "execution_count": 7,
      "id": "uwHLm-BqEOsT",
      "metadata": {
        "id": "uwHLm-BqEOsT"
      },
      "outputs": [],
      "source": [
        "from datasets import load_dataset\n",
        "\n",
        "dataset = load_dataset(\"g-ronimo/riddles_evolved\")\n",
        "dataset = dataset[\"train\"].train_test_split(test_size=0.1)\n"
      ]
    },
    {
      "cell_type": "code",
      "execution_count": 8,
      "id": "A_B62I90EczT",
      "metadata": {
        "colab": {
          "base_uri": "https://localhost:8080/"
        },
        "id": "A_B62I90EczT",
        "outputId": "cd8fa11f-d54f-4533-a51e-2b1bd63c3952"
      },
      "outputs": [
        {
          "output_type": "execute_result",
          "data": {
            "text/plain": [
              "DatasetDict({\n",
              "    train: Dataset({\n",
              "        features: ['number', 'messages'],\n",
              "        num_rows: 1513\n",
              "    })\n",
              "    test: Dataset({\n",
              "        features: ['number', 'messages'],\n",
              "        num_rows: 169\n",
              "    })\n",
              "})"
            ]
          },
          "metadata": {},
          "execution_count": 8
        }
      ],
      "source": [
        "dataset"
      ]
    },
    {
      "cell_type": "code",
      "execution_count": 9,
      "id": "1LANgRVxEeDd",
      "metadata": {
        "colab": {
          "base_uri": "https://localhost:8080/"
        },
        "id": "1LANgRVxEeDd",
        "outputId": "336d3bc3-c619-45f5-85e7-0fe4e73b7ea6"
      },
      "outputs": [
        {
          "output_type": "execute_result",
          "data": {
            "text/plain": [
              "{'number': 1509,\n",
              " 'messages': [\"What starts with a 'C' is covered with keys, but we use only one. What is it?\",\n",
              "  'The answer to the riddle is a \"coconut.\" While a coconut is covered with many small \"keys\" or eyes, we typically open it with just one tool, such as a coconut crusher or a large nail.',\n",
              "  \"Cool, so what's that thing we eat that looks like a big brown ball and has lots of little bumps on it, but we only use one thing to open it? I guess it's not a basketball?\",\n",
              "  'I believe you\\'re referring to an artichoke. While an artichoke looks like a large brown ball with small bumps on it, we typically use a tool called a \"dip tool\" or a \"lemon tool\" with a sharp tip or a pair of scissors to remove the small, sharp thorns covering the artichoke\\'s bracts, allowing us to eat the tender heart inside.']}"
            ]
          },
          "metadata": {},
          "execution_count": 9
        }
      ],
      "source": [
        "dataset[\"train\"][0]"
      ]
    },
    {
      "cell_type": "markdown",
      "id": "b52840a7-b6ae-48b3-bfed-7e4e526c7ee7",
      "metadata": {
        "id": "b52840a7-b6ae-48b3-bfed-7e4e526c7ee7"
      },
      "source": [
        "## Apply ChatML format and tokenize"
      ]
    },
    {
      "cell_type": "code",
      "execution_count": 10,
      "id": "431e1e03-938e-4403-a692-50987f787790",
      "metadata": {
        "id": "431e1e03-938e-4403-a692-50987f787790"
      },
      "outputs": [],
      "source": [
        "import os\n",
        "from functools import partial\n",
        "\n",
        "# Format (chatML) and tokenize dataset\n",
        "templates=[\n",
        "    \"<|im_start|>assistant\\n{msg}<|im_end|>\",\n",
        "    \"<|im_start|>user\\n{msg}<|im_end|>\"\n",
        "]\n",
        "IGNORE_INDEX=-100\n",
        "\n",
        "def tokenize(input, max_length):\n",
        "    input_ids, attention_mask, labels = [], [], []\n",
        "\n",
        "    for i,msg in enumerate(input[\"messages\"]):\n",
        "        isHuman = i%2==0\n",
        "        msg_chatml=templates[isHuman].format(msg=msg)\n",
        "        msg_tokenized=tokenizer(msg_chatml, truncation=False, add_special_tokens=False)\n",
        "\n",
        "        input_ids+=msg_tokenized[\"input_ids\"]\n",
        "        attention_mask+=msg_tokenized[\"attention_mask\"]\n",
        "        labels+=[IGNORE_INDEX]*len(msg_tokenized[\"input_ids\"]) if isHuman else msg_tokenized[\"input_ids\"]\n",
        "\n",
        "    return {\n",
        "        \"input_ids\": input_ids[:max_length],\n",
        "        \"attention_mask\": attention_mask[:max_length],\n",
        "        \"labels\": labels[:max_length],\n",
        "    }\n",
        "\n",
        "dataset_tokenized = dataset.map(\n",
        "    partial(tokenize, max_length=512),\n",
        "    batched=False,\n",
        "    num_proc=os.cpu_count(),    # multithreaded\n",
        "    remove_columns=dataset[\"train\"].column_names  # don't need this anymore, we have tokens from here on\n",
        ")"
      ]
    },
    {
      "cell_type": "code",
      "execution_count": 11,
      "id": "75bab8eb-b7be-4d11-a17f-a5a1cac5cbb7",
      "metadata": {
        "colab": {
          "base_uri": "https://localhost:8080/",
          "height": 448
        },
        "id": "75bab8eb-b7be-4d11-a17f-a5a1cac5cbb7",
        "outputId": "bb469ccf-c557-49ef-e5fd-fef20d66411c"
      },
      "outputs": [
        {
          "output_type": "stream",
          "name": "stdout",
          "text": [
            "longest sample: 512 tokens\n"
          ]
        },
        {
          "output_type": "display_data",
          "data": {
            "text/plain": [
              "<Figure size 640x480 with 1 Axes>"
            ],
            "image/png": "[encoded data removed]"
          },
          "metadata": {}
        }
      ],
      "source": [
        "# Sample size distribution\n",
        "import matplotlib.pyplot as plt\n",
        "\n",
        "data = [len(tok) for tok in (dataset_tokenized[\"train\"][\"input_ids\"]+dataset_tokenized[\"test\"][\"input_ids\"])]\n",
        "print(f\"longest sample: {max(data)} tokens\")\n",
        "\n",
        "plt.hist(data, bins=10)\n",
        "plt.show()"
      ]
    },
    {
      "cell_type": "markdown",
      "id": "91d98033-b61d-43ad-94b1-03bdbd2b1b87",
      "metadata": {
        "id": "91d98033-b61d-43ad-94b1-03bdbd2b1b87"
      },
      "source": [
        "## Define a collate function, train on answers only"
      ]
    },
    {
      "cell_type": "code",
      "execution_count": 12,
      "id": "6039dd03-6e1c-4b21-b16e-1694b2d69c2b",
      "metadata": {
        "id": "6039dd03-6e1c-4b21-b16e-1694b2d69c2b"
      },
      "outputs": [],
      "source": [
        "# collate function - to transform list of dictionaries [ {input_ids: [123, ..]}, {.. ] to single batch dictionary { input_ids: [..], labels: [..], attention_mask: [..] }\n",
        "def collate(elements):\n",
        "    tokens=[e[\"input_ids\"] for e in elements]\n",
        "    tokens_maxlen=max([len(t) for t in tokens])\n",
        "\n",
        "    for i,sample in enumerate(elements):\n",
        "        input_ids=sample[\"input_ids\"]\n",
        "        labels=sample[\"labels\"]\n",
        "        attention_mask=sample[\"attention_mask\"]\n",
        "\n",
        "        pad_len=tokens_maxlen-len(input_ids)\n",
        "\n",
        "        input_ids.extend( pad_len * [tokenizer.pad_token_id] )\n",
        "        labels.extend( pad_len * [IGNORE_INDEX] )\n",
        "        attention_mask.extend( pad_len * [0] )\n",
        "\n",
        "    batch={\n",
        "        \"input_ids\": torch.tensor( [e[\"input_ids\"] for e in elements] ),\n",
        "        \"labels\": torch.tensor( [e[\"labels\"] for e in elements] ),\n",
        "        \"attention_mask\": torch.tensor( [e[\"attention_mask\"] for e in elements] ),\n",
        "    }\n",
        "\n",
        "    return batch\n"
      ]
    },
    {
      "cell_type": "markdown",
      "id": "93877bc2-7d12-45b5-b3d3-cbd5c39d2e9d",
      "metadata": {
        "id": "93877bc2-7d12-45b5-b3d3-cbd5c39d2e9d"
      },
      "source": [
        "# Train"
      ]
    },
    {
      "cell_type": "markdown",
      "id": "2c7dc69d-fa8f-437d-a75d-a61a239af2c0",
      "metadata": {
        "id": "2c7dc69d-fa8f-437d-a75d-a61a239af2c0"
      },
      "source": [
        "## Set hyperparameters"
      ]
    },
    {
      "cell_type": "code",
      "execution_count": null,
      "id": "11fd3c0e-4c4f-4333-bddf-11a28b47d8ec",
      "metadata": {
        "id": "11fd3c0e-4c4f-4333-bddf-11a28b47d8ec"
      },
      "outputs": [],
      "source": [
        "from transformers import TrainingArguments, Trainer\n",
        "\n",
        "bs=1     # batch size\n",
        "eval_bs=4     # eval. batch size\n",
        "ga_steps=16  # gradient acc. steps\n",
        "epochs=20\n",
        "lr=0.00002\n",
        "\n",
        "steps_per_epoch=len(dataset_tokenized[\"train\"])//(bs*ga_steps)\n",
        "\n",
        "args = TrainingArguments(\n",
        "    output_dir=\"out\",\n",
        "    per_device_train_batch_size=bs,\n",
        "    per_device_eval_batch_size=eval_bs,\n",
        "    evaluation_strategy=\"steps\",\n",
        "    logging_steps=1,\n",
        "    eval_steps=steps_per_epoch//2,\n",
        "    save_steps=steps_per_epoch,\n",
        "    gradient_accumulation_steps=ga_steps,\n",
        "    num_train_epochs=epochs,\n",
        "    lr_scheduler_type=\"constant\",\n",
        "    optim=\"paged_adamw_32bit\",      # val_loss will go nan with paged_adamw_8bit\n",
        "    learning_rate=lr,\n",
        "    group_by_length=False,\n",
        "    fp16=True,\n",
        "    ddp_find_unused_parameters=False,\n",
        "    gradient_checkpointing=True,\n",
        "    # report_to=\"wandb\",\n",
        ")\n",
        "\n",
        "# import wandb\n",
        "# wandb.login(key=\"81dec54df51cb31a3b88280e240bfbcf48d9c9dc\")\n",
        "\n",
        "trainer = Trainer(\n",
        "    model=model,\n",
        "    tokenizer=tokenizer,\n",
        "    args=args,\n",
        "    data_collator=collate,\n",
        "    train_dataset=dataset_tokenized[\"train\"],\n",
        "    eval_dataset=dataset_tokenized[\"test\"],\n",
        ")\n",
        "\n"
      ]
    },
    {
      "cell_type": "markdown",
      "id": "7e5c5798-747b-434a-9fac-08cf241420ac",
      "metadata": {
        "id": "7e5c5798-747b-434a-9fac-08cf241420ac"
      },
      "source": [
        "## Start training"
      ]
    },
    {
      "cell_type": "code",
      "execution_count": null,
      "id": "c9a482f3-eec8-40f7-9382-af6538ab51c0",
      "metadata": {
        "id": "c9a482f3-eec8-40f7-9382-af6538ab51c0"
      },
      "outputs": [],
      "source": [
        "trainer.train()"
      ]
    }
  ],
  "metadata": {
    "accelerator": "GPU",
    "colab": {
      "gpuType": "T4",
      "provenance": []
    },
    "kernelspec": {
      "display_name": "Python 3 (ipykernel)",
      "language": "python",
      "name": "python3"
    },
    "language_info": {
      "codemirror_mode": {
        "name": "ipython",
        "version": 3
      },
      "file_extension": ".py",
      "mimetype": "text/x-python",
      "name": "python",
      "nbconvert_exporter": "python",
      "pygments_lexer": "ipython3",
      "version": "3.10.12"
    },
    "widgets": {
      "application/vnd.jupyter.widget-state+json": {
        "043c2db1f2474a54a1b12606a031391a": {
          "model_module": "@jupyter-widgets/controls",
          "model_name": "HBoxModel",
          "model_module_version": "1.5.0",
          "state": {
            "_dom_classes": [],
            "_model_module": "@jupyter-widgets/controls",
            "_model_module_version": "1.5.0",
            "_model_name": "HBoxModel",
            "_view_count": null,
            "_view_module": "@jupyter-widgets/controls",
            "_view_module_version": "1.5.0",
            "_view_name": "HBoxView",
            "box_style": "",
            "children": [
              "IPY_MODEL_f8b314ac16fb48d385a0d692647ad7c6",
              "IPY_MODEL_035ffac7fea94d40814acc0431bc568a",
              "IPY_MODEL_1082c8cbd9974b5299d486fa6d1f70a7"
            ],
            "layout": "IPY_MODEL_65746bf9a1014473949c6ffa175e7a15"
          }
        },
        "f8b314ac16fb48d385a0d692647ad7c6": {
          "model_module": "@jupyter-widgets/controls",
          "model_name": "HTMLModel",
          "model_module_version": "1.5.0",
          "state": {
            "_dom_classes": [],
            "_model_module": "@jupyter-widgets/controls",
            "_model_module_version": "1.5.0",
            "_model_name": "HTMLModel",
            "_view_count": null,
            "_view_module": "@jupyter-widgets/controls",
            "_view_module_version": "1.5.0",
            "_view_name": "HTMLView",
            "description": "",
            "description_tooltip": null,
            "layout": "IPY_MODEL_52d946c8448647bfa7eb6c1a00ae25cf",
            "placeholder": "​",
            "style": "IPY_MODEL_08fa8fd66875428a8219b51875a467e7",
            "value": "Loading checkpoint shards: 100%"
          }
        },
        "035ffac7fea94d40814acc0431bc568a": {
          "model_module": "@jupyter-widgets/controls",
          "model_name": "FloatProgressModel",
          "model_module_version": "1.5.0",
          "state": {
            "_dom_classes": [],
            "_model_module": "@jupyter-widgets/controls",
            "_model_module_version": "1.5.0",
            "_model_name": "FloatProgressModel",
            "_view_count": null,
            "_view_module": "@jupyter-widgets/controls",
            "_view_module_version": "1.5.0",
            "_view_name": "ProgressView",
            "bar_style": "success",
            "description": "",
            "description_tooltip": null,
            "layout": "IPY_MODEL_894629eded314f7eab050ad324ee0090",
            "max": 2,
            "min": 0,
            "orientation": "horizontal",
            "style": "IPY_MODEL_a7d06919403c4a8286083242d371a41f",
            "value": 2
          }
        },
        "1082c8cbd9974b5299d486fa6d1f70a7": {
          "model_module": "@jupyter-widgets/controls",
          "model_name": "HTMLModel",
          "model_module_version": "1.5.0",
          "state": {
            "_dom_classes": [],
            "_model_module": "@jupyter-widgets/controls",
            "_model_module_version": "1.5.0",
            "_model_name": "HTMLModel",
            "_view_count": null,
            "_view_module": "@jupyter-widgets/controls",
            "_view_module_version": "1.5.0",
            "_view_name": "HTMLView",
            "description": "",
            "description_tooltip": null,
            "layout": "IPY_MODEL_2c4335cbbcc44ade9ab06817c1cd3cff",
            "placeholder": "​",
            "style": "IPY_MODEL_98bbcee530314856b9a0a362b5894c35",
            "value": " 2/2 [00:31&lt;00:00, 13.76s/it]"
          }
        },
        "65746bf9a1014473949c6ffa175e7a15": {
          "model_module": "@jupyter-widgets/base",
          "model_name": "LayoutModel",
          "model_module_version": "1.2.0",
          "state": {
            "_model_module": "@jupyter-widgets/base",
            "_model_module_version": "1.2.0",
            "_model_name": "LayoutModel",
            "_view_count": null,
            "_view_module": "@jupyter-widgets/base",
            "_view_module_version": "1.2.0",
            "_view_name": "LayoutView",
            "align_content": null,
            "align_items": null,
            "align_self": null,
            "border": null,
            "bottom": null,
            "display": null,
            "flex": null,
            "flex_flow": null,
            "grid_area": null,
            "grid_auto_columns": null,
            "grid_auto_flow": null,
            "grid_auto_rows": null,
            "grid_column": null,
            "grid_gap": null,
            "grid_row": null,
            "grid_template_areas": null,
            "grid_template_columns": null,
            "grid_template_rows": null,
            "height": null,
            "justify_content": null,
            "justify_items": null,
            "left": null,
            "margin": null,
            "max_height": null,
            "max_width": null,
            "min_height": null,
            "min_width": null,
            "object_fit": null,
            "object_position": null,
            "order": null,
            "overflow": null,
            "overflow_x": null,
            "overflow_y": null,
            "padding": null,
            "right": null,
            "top": null,
            "visibility": null,
            "width": null
          }
        },
        "52d946c8448647bfa7eb6c1a00ae25cf": {
          "model_module": "@jupyter-widgets/base",
          "model_name": "LayoutModel",
          "model_module_version": "1.2.0",
          "state": {
            "_model_module": "@jupyter-widgets/base",
            "_model_module_version": "1.2.0",
            "_model_name": "LayoutModel",
            "_view_count": null,
            "_view_module": "@jupyter-widgets/base",
            "_view_module_version": "1.2.0",
            "_view_name": "LayoutView",
            "align_content": null,
            "align_items": null,
            "align_self": null,
            "border": null,
            "bottom": null,
            "display": null,
            "flex": null,
            "flex_flow": null,
            "grid_area": null,
            "grid_auto_columns": null,
            "grid_auto_flow": null,
            "grid_auto_rows": null,
            "grid_column": null,
            "grid_gap": null,
            "grid_row": null,
            "grid_template_areas": null,
            "grid_template_columns": null,
            "grid_template_rows": null,
            "height": null,
            "justify_content": null,
            "justify_items": null,
            "left": null,
            "margin": null,
            "max_height": null,
            "max_width": null,
            "min_height": null,
            "min_width": null,
            "object_fit": null,
            "object_position": null,
            "order": null,
            "overflow": null,
            "overflow_x": null,
            "overflow_y": null,
            "padding": null,
            "right": null,
            "top": null,
            "visibility": null,
            "width": null
          }
        },
        "08fa8fd66875428a8219b51875a467e7": {
          "model_module": "@jupyter-widgets/controls",
          "model_name": "DescriptionStyleModel",
          "model_module_version": "1.5.0",
          "state": {
            "_model_module": "@jupyter-widgets/controls",
            "_model_module_version": "1.5.0",
            "_model_name": "DescriptionStyleModel",
            "_view_count": null,
            "_view_module": "@jupyter-widgets/base",
            "_view_module_version": "1.2.0",
            "_view_name": "StyleView",
            "description_width": ""
          }
        },
        "894629eded314f7eab050ad324ee0090": {
          "model_module": "@jupyter-widgets/base",
          "model_name": "LayoutModel",
          "model_module_version": "1.2.0",
          "state": {
            "_model_module": "@jupyter-widgets/base",
            "_model_module_version": "1.2.0",
            "_model_name": "LayoutModel",
            "_view_count": null,
            "_view_module": "@jupyter-widgets/base",
            "_view_module_version": "1.2.0",
            "_view_name": "LayoutView",
            "align_content": null,
            "align_items": null,
            "align_self": null,
            "border": null,
            "bottom": null,
            "display": null,
            "flex": null,
            "flex_flow": null,
            "grid_area": null,
            "grid_auto_columns": null,
            "grid_auto_flow": null,
            "grid_auto_rows": null,
            "grid_column": null,
            "grid_gap": null,
            "grid_row": null,
            "grid_template_areas": null,
            "grid_template_columns": null,
            "grid_template_rows": null,
            "height": null,
            "justify_content": null,
            "justify_items": null,
            "left": null,
            "margin": null,
            "max_height": null,
            "max_width": null,
            "min_height": null,
            "min_width": null,
            "object_fit": null,
            "object_position": null,
            "order": null,
            "overflow": null,
            "overflow_x": null,
            "overflow_y": null,
            "padding": null,
            "right": null,
            "top": null,
            "visibility": null,
            "width": null
          }
        },
        "a7d06919403c4a8286083242d371a41f": {
          "model_module": "@jupyter-widgets/controls",
          "model_name": "ProgressStyleModel",
          "model_module_version": "1.5.0",
          "state": {
            "_model_module": "@jupyter-widgets/controls",
            "_model_module_version": "1.5.0",
            "_model_name": "ProgressStyleModel",
            "_view_count": null,
            "_view_module": "@jupyter-widgets/base",
            "_view_module_version": "1.2.0",
            "_view_name": "StyleView",
            "bar_color": null,
            "description_width": ""
          }
        },
        "2c4335cbbcc44ade9ab06817c1cd3cff": {
          "model_module": "@jupyter-widgets/base",
          "model_name": "LayoutModel",
          "model_module_version": "1.2.0",
          "state": {
            "_model_module": "@jupyter-widgets/base",
            "_model_module_version": "1.2.0",
            "_model_name": "LayoutModel",
            "_view_count": null,
            "_view_module": "@jupyter-widgets/base",
            "_view_module_version": "1.2.0",
            "_view_name": "LayoutView",
            "align_content": null,
            "align_items": null,
            "align_self": null,
            "border": null,
            "bottom": null,
            "display": null,
            "flex": null,
            "flex_flow": null,
            "grid_area": null,
            "grid_auto_columns": null,
            "grid_auto_flow": null,
            "grid_auto_rows": null,
            "grid_column": null,
            "grid_gap": null,
            "grid_row": null,
            "grid_template_areas": null,
            "grid_template_columns": null,
            "grid_template_rows": null,
            "height": null,
            "justify_content": null,
            "justify_items": null,
            "left": null,
            "margin": null,
            "max_height": null,
            "max_width": null,
            "min_height": null,
            "min_width": null,
            "object_fit": null,
            "object_position": null,
            "order": null,
            "overflow": null,
            "overflow_x": null,
            "overflow_y": null,
            "padding": null,
            "right": null,
            "top": null,
            "visibility": null,
            "width": null
          }
        },
        "98bbcee530314856b9a0a362b5894c35": {
          "model_module": "@jupyter-widgets/controls",
          "model_name": "DescriptionStyleModel",
          "model_module_version": "1.5.0",
          "state": {
            "_model_module": "@jupyter-widgets/controls",
            "_model_module_version": "1.5.0",
            "_model_name": "DescriptionStyleModel",
            "_view_count": null,
            "_view_module": "@jupyter-widgets/base",
            "_view_module_version": "1.2.0",
            "_view_name": "StyleView",
            "description_width": ""
          }
        }
      }
    }
  },
  "nbformat": 4,
  "nbformat_minor": 5
}